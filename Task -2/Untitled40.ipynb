{
  "nbformat": 4,
  "nbformat_minor": 0,
  "metadata": {
    "colab": {
      "provenance": []
    },
    "kernelspec": {
      "name": "python3",
      "display_name": "Python 3"
    },
    "language_info": {
      "name": "python"
    }
  },
  "cells": [
    {
      "cell_type": "code",
      "execution_count": null,
      "metadata": {
        "id": "6K0jEeeGN5vX"
      },
      "outputs": [],
      "source": [
        "n = int(input())\n",
        "\n",
        "ops = set(map(int, input().split()))\n",
        "\n",
        "m = int(input())\n",
        "\n",
        "ls = []\n",
        "\n",
        "ls1=[]\n",
        "\n",
        "for i in range(m):\n",
        "    \n",
        "    t1, t3 = input().split()\n",
        "    \n",
        "    t2 = set(map(int, input().split()))\n",
        "    \n",
        "    ls.append(t1)\n",
        "    \n",
        "    ls1.append(t2)\n",
        "    \n",
        "for i, j in zip(range(m), range(len(ls))):\n",
        "    \n",
        "    func = getattr(ops, ls[j])(ls1[j])\n",
        "    \n",
        "print(sum(ops))\n"
      ]
    }
  ]
}