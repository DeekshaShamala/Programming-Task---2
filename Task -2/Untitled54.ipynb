{
  "nbformat": 4,
  "nbformat_minor": 0,
  "metadata": {
    "colab": {
      "provenance": []
    },
    "kernelspec": {
      "name": "python3",
      "display_name": "Python 3"
    },
    "language_info": {
      "name": "python"
    }
  },
  "cells": [
    {
      "cell_type": "code",
      "execution_count": null,
      "metadata": {
        "id": "Jnju0PwAcBC2"
      },
      "outputs": [],
      "source": [
        "res= []\n",
        "\n",
        "grades = []\n",
        "\n",
        "for _ in range(int(input())):\n",
        "    \n",
        "    names = input()\n",
        "    \n",
        "    score = float(input())\n",
        "    \n",
        "    res.append([names, score])\n",
        "    \n",
        "    grades.append(score)\n",
        "    \n",
        "grades = sorted(set(grades))\n",
        "    \n",
        "a = grades[1]\n",
        "\n",
        "names = []\n",
        "    \n",
        "for i in res:\n",
        "        \n",
        "    if(i[1]==a):\n",
        "        \n",
        "        names.append(i[0])\n",
        "names.sort()          \n",
        "\n",
        "for val in names:\n",
        "    \n",
        "    print(val)\n",
        "            \n",
        "        \n",
        "        \n"
      ]
    }
  ]
}