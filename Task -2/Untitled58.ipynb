{
  "nbformat": 4,
  "nbformat_minor": 0,
  "metadata": {
    "colab": {
      "provenance": []
    },
    "kernelspec": {
      "name": "python3",
      "display_name": "Python 3"
    },
    "language_info": {
      "name": "python"
    }
  },
  "cells": [
    {
      "cell_type": "code",
      "execution_count": null,
      "metadata": {
        "id": "5octpSNKeYg3"
      },
      "outputs": [],
      "source": [
        "n = int(input())\n",
        "\n",
        "ls=[]\n",
        "\n",
        "for i in range(n):\n",
        "    \n",
        "    name = input()\n",
        "    \n",
        "    ls.append(name)\n",
        "    \n",
        "print(len(set(ls)))\n"
      ]
    }
  ]
}