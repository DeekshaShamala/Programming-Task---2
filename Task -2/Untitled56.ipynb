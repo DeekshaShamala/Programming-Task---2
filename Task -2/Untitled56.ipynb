{
  "nbformat": 4,
  "nbformat_minor": 0,
  "metadata": {
    "colab": {
      "provenance": []
    },
    "kernelspec": {
      "name": "python3",
      "display_name": "Python 3"
    },
    "language_info": {
      "name": "python"
    }
  },
  "cells": [
    {
      "cell_type": "code",
      "execution_count": null,
      "metadata": {
        "id": "GoltBWq3dXYZ"
      },
      "outputs": [],
      "source": [
        "def average(array):\n",
        "    # your code goes here\n",
        "    d = set(array)\n",
        "    \n",
        "    return (sum(d)/len(d))\n",
        "    \n",
        "\n",
        "if __name__ == '__main__':\n",
        "    n = int(input())\n",
        "    arr = list(map(int, input().split()))\n",
        "    result = average(arr)\n",
        "    print(result)"
      ]
    }
  ]
}