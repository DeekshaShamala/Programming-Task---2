{
  "nbformat": 4,
  "nbformat_minor": 0,
  "metadata": {
    "colab": {
      "provenance": []
    },
    "kernelspec": {
      "name": "python3",
      "display_name": "Python 3"
    },
    "language_info": {
      "name": "python"
    }
  },
  "cells": [
    {
      "cell_type": "code",
      "execution_count": null,
      "metadata": {
        "id": "oya07tq1gEH_"
      },
      "outputs": [],
      "source": [
        "a = set(input().split())\n",
        "\n",
        "\n",
        "n = int(input())\n",
        "\n",
        "t=True\n",
        "\n",
        "for i in range(n):\n",
        "    \n",
        "    b = set(input().split())\n",
        "\n",
        "    \n",
        "    t*=bool(a.issuperset(b))\n",
        "        \n",
        "        \n",
        "print(bool(t))"
      ]
    }
  ]
}