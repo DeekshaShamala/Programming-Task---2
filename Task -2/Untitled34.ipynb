{
  "nbformat": 4,
  "nbformat_minor": 0,
  "metadata": {
    "colab": {
      "provenance": []
    },
    "kernelspec": {
      "name": "python3",
      "display_name": "Python 3"
    },
    "language_info": {
      "name": "python"
    }
  },
  "cells": [
    {
      "cell_type": "code",
      "execution_count": null,
      "metadata": {
        "id": "YjviTMSicj_e"
      },
      "outputs": [],
      "source": [
        "if __name__ == '__main__':\n",
        "    n = int(input())\n",
        "    student_marks = {}\n",
        "    for _ in range(n):\n",
        "        name, *line = input().split()\n",
        "        scores = list(map(float, line))\n",
        "        student_marks[name] = scores\n",
        "    query_name = input()\n",
        "    \n",
        "    avg=0\n",
        "    \n",
        "    for x,y in (student_marks.items()):\n",
        "        if(x==query_name):\n",
        "            \n",
        "            avg = sum(y) / len(y)\n",
        "\n",
        "    print(\"%.2f\"%avg)\n",
        "\n",
        "            "
      ]
    }
  ]
}