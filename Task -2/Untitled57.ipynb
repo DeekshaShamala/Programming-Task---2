{
  "nbformat": 4,
  "nbformat_minor": 0,
  "metadata": {
    "colab": {
      "provenance": []
    },
    "kernelspec": {
      "name": "python3",
      "display_name": "Python 3"
    },
    "language_info": {
      "name": "python"
    }
  },
  "cells": [
    {
      "cell_type": "code",
      "execution_count": null,
      "metadata": {
        "id": "OjNxVjsveDAs"
      },
      "outputs": [],
      "source": [
        "n = int(input())\n",
        "\n",
        "l = set(map(int, input().split()))\n",
        "\n",
        "m = int(input())\n",
        "\n",
        "s = set(map(int, input().split()))\n",
        "\n",
        "t=list((l-s).union((s-l)))\n",
        "\n",
        "t.sort()\n",
        "\n",
        "for val in t:\n",
        "    print(val)\n"
      ]
    }
  ]
}