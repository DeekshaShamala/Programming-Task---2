{
  "nbformat": 4,
  "nbformat_minor": 0,
  "metadata": {
    "colab": {
      "provenance": []
    },
    "kernelspec": {
      "name": "python3",
      "display_name": "Python 3"
    },
    "language_info": {
      "name": "python"
    }
  },
  "cells": [
    {
      "cell_type": "code",
      "execution_count": null,
      "metadata": {
        "id": "kAY7SFC20dh8"
      },
      "outputs": [],
      "source": [
        "m, n = map(int, input().split(\" \"))\n",
        "\n",
        "\n",
        "\n",
        "ar=list(map(int, input().split(\" \")))\n",
        "\n",
        "\n",
        "arr=set(map(int, input().split(\" \")))\n",
        " \n",
        "\n",
        "arrr=set(map(int, input().split(\" \")))\n",
        "\n",
        "\n",
        "c=0\n",
        "\n",
        "\n",
        "for i in ar:\n",
        "    \n",
        "    if(i in arr):\n",
        "        \n",
        "        c+=1\n",
        "        \n",
        "    elif(i in arrr):\n",
        "        \n",
        "        c-=1\n",
        "        \n",
        "print(c)\n",
        "\n"
      ]
    }
  ]
}