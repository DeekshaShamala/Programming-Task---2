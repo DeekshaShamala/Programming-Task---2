{
  "nbformat": 4,
  "nbformat_minor": 0,
  "metadata": {
    "colab": {
      "provenance": []
    },
    "kernelspec": {
      "name": "python3",
      "display_name": "Python 3"
    },
    "language_info": {
      "name": "python"
    }
  },
  "cells": [
    {
      "cell_type": "code",
      "execution_count": null,
      "metadata": {
        "id": "BZEPoKzb3CwH"
      },
      "outputs": [],
      "source": [
        "m = int(input())\n",
        "\n",
        "ops = set(map(int, input().split()))\n",
        "\n",
        "n = int(input())\n",
        "\n",
        "oops = set(map(int, input().split()))\n",
        "\n",
        "print(len(ops-oops))\n"
      ]
    }
  ]
}