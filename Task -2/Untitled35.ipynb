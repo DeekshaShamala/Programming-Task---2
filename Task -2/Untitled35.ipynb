{
  "nbformat": 4,
  "nbformat_minor": 0,
  "metadata": {
    "colab": {
      "provenance": []
    },
    "kernelspec": {
      "name": "python3",
      "display_name": "Python 3"
    },
    "language_info": {
      "name": "python"
    }
  },
  "cells": [
    {
      "cell_type": "code",
      "execution_count": null,
      "metadata": {
        "id": "_PIzxnnZcnlV"
      },
      "outputs": [],
      "source": [
        "if __name__ == '__main__':\n",
        "    N = int(input())\n",
        "    \n",
        "ls=[]\n",
        "    \n",
        "for i in range(N):\n",
        "    \n",
        "    name, *elem = (input().split())\n",
        "    \n",
        "    \n",
        "    \n",
        "    if name==\"insert\":\n",
        "        \n",
        "        ls.insert(*(map(int, elem)))\n",
        "        \n",
        "    \n",
        "    elif name==\"print\":\n",
        "        \n",
        "        print(ls)\n",
        "        \n",
        "    else:\n",
        "        \n",
        "        getattr(ls, name)(*map(int,elem))"
      ]
    }
  ]
}