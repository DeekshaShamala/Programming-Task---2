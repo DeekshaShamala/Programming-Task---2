{
  "nbformat": 4,
  "nbformat_minor": 0,
  "metadata": {
    "colab": {
      "provenance": []
    },
    "kernelspec": {
      "name": "python3",
      "display_name": "Python 3"
    },
    "language_info": {
      "name": "python"
    }
  },
  "cells": [
    {
      "cell_type": "code",
      "execution_count": null,
      "metadata": {
        "id": "eLsPqhyqPdAb"
      },
      "outputs": [],
      "source": [
        "n = int(input())\n",
        "\n",
        "for i in range(n):\n",
        "    \n",
        "    n1 = int(input())\n",
        "    \n",
        "    a = set(input().split())\n",
        "    \n",
        "    n3 = int(input())\n",
        "    \n",
        "    b = set(input().split())\n",
        "    \n",
        "    if(a.issubset(b)):\n",
        "        \n",
        "        print(\"True\")\n",
        "        \n",
        "    else:\n",
        "        print(\"False\")\n",
        "    \n"
      ]
    }
  ]
}