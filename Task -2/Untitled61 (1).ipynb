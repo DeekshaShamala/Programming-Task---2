{
  "nbformat": 4,
  "nbformat_minor": 0,
  "metadata": {
    "colab": {
      "provenance": []
    },
    "kernelspec": {
      "name": "python3",
      "display_name": "Python 3"
    },
    "language_info": {
      "name": "python"
    }
  },
  "cells": [
    {
      "cell_type": "code",
      "execution_count": null,
      "metadata": {
        "id": "-OTVgfnwgOJN"
      },
      "outputs": [],
      "source": [
        "n, s = int(input()), set(map(int, input().split()[::-1]))\n",
        "for _ in range(int(input())):\n",
        "    method, *args = input().split()\n",
        "    getattr(s, method)(*map(int, *args)) if args else getattr(s, method)()\n",
        "print(sum(s))"
      ]
    }
  ]
}