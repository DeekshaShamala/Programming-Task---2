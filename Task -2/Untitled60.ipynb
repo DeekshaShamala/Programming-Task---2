{
  "nbformat": 4,
  "nbformat_minor": 0,
  "metadata": {
    "colab": {
      "provenance": []
    },
    "kernelspec": {
      "name": "python3",
      "display_name": "Python 3"
    },
    "language_info": {
      "name": "python"
    }
  },
  "cells": [
    {
      "cell_type": "code",
      "execution_count": null,
      "metadata": {
        "id": "LHLtWcDhf0MG"
      },
      "outputs": [],
      "source": [
        "from collections import Counter\n",
        "\n",
        "n = int(input())\n",
        "gr = list(map(int, input().split()))\n",
        "res_cou = Counter(gr)\n",
        "result=min(res_cou, key = res_cou.get)\n",
        "print(result)\n"
      ]
    }
  ]
}